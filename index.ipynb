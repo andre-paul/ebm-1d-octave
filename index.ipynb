{
 "cells": [
  {
   "cell_type": "markdown",
   "metadata": {},
   "source": [
    "# One-dimensional energy balance model"
   ]
  },
  {
   "cell_type": "markdown",
   "metadata": {},
   "source": [
    "In this notebook, I provide some background on the implementation of the one-dimensional energy balance model, which is based on the MATLAB/Octave code\n",
    "of the solar heating and zero-dimensional energy balance models as well as the numerical solution to the one-dimensional advection problem. For a detailed description of the exercise, see the PDF document [e05_ebm_1d_basic.pdf](https://seafile.zfn.uni-bremen.de/f/4b1f2e04d6e34f70adb9/)."
   ]
  },
  {
   "cell_type": "markdown",
   "metadata": {},
   "source": [
    "## M-file script `ebm_1d.m`"
   ]
  },
  {
   "cell_type": "markdown",
   "metadata": {},
   "source": [
    "First, I go through the M-file script or \"main program\" `ebm_1d.m`. In contrast to the  models that we ave used until now, in the first section of the code the name of the experiment to be carried out (empty by default) and the names of the input and output files are set:"
   ]
  },
  {
   "cell_type": "code",
   "execution_count": 18,
   "metadata": {},
   "outputs": [],
   "source": [
    "% Set experiment name\n",
    "experimentName = '';\n",
    "\n",
    "% Set input file names\n",
    "gridsFilename       = 'grids.txt';\n",
    "swradiationFilename = 'shortwave_radiation.txt';\n",
    "diffusivityFilename = 'diffusivity.txt';\n",
    "\n",
    "% Set output file names\n",
    "historyFilename   = ['history' experimentName '.txt'];\n",
    "snapshotFilename1 = ['snapshot_yc' experimentName '.txt'];\n",
    "snapshotFilename2 = ['snapshot_yg' experimentName '.txt'];"
   ]
  },
  {
   "cell_type": "markdown",
   "metadata": {},
   "source": [
    "This is because the description of the model grid, the insolation and planetary albedo and the diffusivity coefficient are read from input files. This is convenient as it allows for a more compact code. Furthermore, the names of the output files are set: for the \"history\" file, in which the time series of the simulated global-mean temperature is saved, and for two \"snapshot\" files, which contain the final results for variables defined at the grid-cell centers (on the `yC` grid) and variables at the grid-cell interfaces (on the `yG` grid)."
   ]
  },
  {
   "cell_type": "markdown",
   "metadata": {},
   "source": [
    "In the next section of the code, constants and parameters are set. Many are already known from the solar heating and zero-dimensional energy balance models, but there are also a couple of new ones, such as the `solarFraction` that allows to modify the insolation by a constant factor (set to 1.0 by default), the `mixedLayerDepth` that enters the `effectiveHeatCapacity` and the `longwaveCoefficientA` and `longwaveCoefficientB` for the linear parameterization of the outgoing longwave radiation:"
   ]
  },
  {
   "cell_type": "code",
   "execution_count": 19,
   "metadata": {},
   "outputs": [],
   "source": [
    "% Set named constants\n",
    "SECONDS_PER_DAY = 86400.0;\n",
    "DAYS_PER_YEAR   =   365.0;\n",
    "    \n",
    "% Set physical constants\n",
    "pureWaterDensity       = 1.0E03;    % density of pure water at 0 degC\n",
    "                                    % /(kg m-3)\n",
    "pureWaterSpecificHeat  = 4218.0;    % specific heat of liquid water at\n",
    "                                    % 0 degC/(J kg-1 K-1)\n",
    "pureWaterFreezingPoint = 273.15;    % pure water freezing point/K\n",
    "\n",
    "% Set run parameters\n",
    "deltaT     =  5.0*86400.0;          % time step/s\n",
    "startTime  =  0.0;                  % time to start integration/s\n",
    "endTime    = 50.0*365.0*86400.0;    % time to stop integration/s\n",
    "nTimeSteps = round((endTime - startTime)/deltaT); % total number of time\n",
    "                                                  % steps\n",
    "% Set model parameters\n",
    "solarFraction         =  1.0;       % current fraction of solar constant\n",
    "mixedLayerDepth       = 70.0;       % ocean mixed-layer depth/m\n",
    "effectiveHeatCapacity = ...\n",
    "    pureWaterSpecificHeat*pureWaterDensity*mixedLayerDepth; \n",
    "                                    % effective heat capacity of the \n",
    "                                    % atmosphere-ocean system/(J m-2 K-1)\n",
    "\n",
    "% Set terms in parameterization of outgoing longwave radiation                                    \n",
    "longwaveCoefficientA = 205.0;       % constant term (control)\n",
    "% longwaveCoefficientA = 201.0;       % constant term (2xCO2)\n",
    "% longwaveCoefficientA = 197.0;       % constant term (4xCO2)\n",
    "% longwaveCoefficientA = 193.0;       % constant term (6xCO2)\n",
    "longwaveCoefficientB =   2.23;      % constant factor\n",
    "                                    % (efficiency of longwave radiative cooling)"
   ]
  },
  {
   "cell_type": "markdown",
   "metadata": {},
   "source": [
    "Then the grid description is read from the specified file and, as in the one-dimentional advection problem, grid-cell face areas `yA` (in units of m<sup>2</sup>) and volumes (in units of m<sup>3</sup>) are calculated:"
   ]
  },
  {
   "cell_type": "code",
   "execution_count": 3,
   "metadata": {},
   "outputs": [],
   "source": [
    "% Read grid descriptors from text file (line-by-line using 'fscanf')\n",
    "gridsFileID = fopen(gridsFilename, 'r');\n",
    "Ny  = fscanf(gridsFileID, '%d', 1   ); % number of grid cells\n",
    "dxG = fscanf(gridsFileID, '%f', Ny+1); % lengths between cell faces in X\n",
    "dyC = fscanf(gridsFileID, '%f', Ny  ); % lengths between cell centers in Y\n",
    "yG  = fscanf(gridsFileID, '%f', Ny+1); % latitudes of grid-lines/cell faces\n",
    "yC  = fscanf(gridsFileID, '%f', Ny  ); % latitudes of grid cell centers\n",
    "rA  = fscanf(gridsFileID, '%f', Ny  ); % vertical face areas\n",
    "fclose(gridsFileID);\n",
    "\n",
    "% Calculate face areas normal to X direction\n",
    "yA = zeros(Ny+1, 1);\n",
    "for j=1:Ny+1\n",
    "    yA(j) = mixedLayerDepth*dxG(j);\n",
    "end\n",
    "\n",
    "% Calculate grid-cell volumes\n",
    "volume = zeros(Ny, 1);\n",
    "for j=1:Ny\n",
    "    volume(j) = mixedLayerDepth*rA(j);\n",
    "end"
   ]
  },
  {
   "cell_type": "markdown",
   "metadata": {},
   "source": [
    "Now the other fields are read from the input files and assigned to one-dimensional arrays or vectors `insolation`, `icefreePlanetaryAlbedo` and `diffKh`. Furthermore, the initial temperature distribution (which is given the generic name `initialTracer`) is set to the currently observed global mean temperature (15 °C) in units of Kelvin:"
   ]
  },
  {
   "cell_type": "code",
   "execution_count": 4,
   "metadata": {},
   "outputs": [],
   "source": [
    "% Read insolation and ice-free planetary albedo from file\n",
    "data = load(swradiationFilename);\n",
    "insolation             = data(:, 2);\n",
    "icefreePlanetaryAlbedo = data(:, 3);\n",
    "\n",
    "% Read diffusivity from file\n",
    "data = load(diffusivityFilename);\n",
    "diffKh                 = data(:, 2);\n",
    "% diffKh = zeros(Ny + 1, 1);\n",
    "\n",
    "% Set initial conditions\n",
    "initialTracer          = (pureWaterFreezingPoint + 15.0)*ones(Ny, 1);"
   ]
  },
  {
   "cell_type": "markdown",
   "metadata": {},
   "source": [
    "For easy access in the M-file function `run_model.m` that acually carries out the numerical integration, all parameters and variables are stored in structure variables:"
   ]
  },
  {
   "cell_type": "code",
   "execution_count": 5,
   "metadata": {},
   "outputs": [],
   "source": [
    "Constants.SECONDS_PER_DAY              = SECONDS_PER_DAY;\n",
    "Constants.DAYS_PER_YEAR                = DAYS_PER_YEAR;\n",
    "Constants.pureWaterSpecificHeat        = pureWaterSpecificHeat;\n",
    "Constants.pureWaterDensity             = pureWaterDensity;\n",
    "Constants.pureWaterFreezingPoint       = pureWaterFreezingPoint;\n",
    "Sizes.Ny                               = Ny;\n",
    "Grids.yC                               = yC;\n",
    "Grids.yG                               = yG;\n",
    "Grids.dyC                              = dyC;\n",
    "Grids.yA                               = yA;   \n",
    "Grids.volume                           = volume;\n",
    "RunParameters.deltaT                   = deltaT;\n",
    "RunParameters.startTime                = startTime;\n",
    "RunParameters.nTimeSteps               = nTimeSteps;\n",
    "RunParameters.historyFilename          = historyFilename;\n",
    "RunParameters.snapshotFilename1        = snapshotFilename1;\n",
    "RunParameters.snapshotFilename2        = snapshotFilename2;\n",
    "ModelParameters.solarFraction          = solarFraction;\n",
    "ModelParameters.insolation             = insolation;\n",
    "ModelParameters.icefreePlanetaryAlbedo = icefreePlanetaryAlbedo;\n",
    "ModelParameters.longwaveCoefficientA   = longwaveCoefficientA;\n",
    "ModelParameters.longwaveCoefficientB   = longwaveCoefficientB;\n",
    "ModelParameters.effectiveHeatCapacity  = effectiveHeatCapacity;\n",
    "ModelParameters.diffKh                 = diffKh;      \n",
    "ModelParameters.initialTracer          = initialTracer;"
   ]
  },
  {
   "cell_type": "markdown",
   "metadata": {},
   "source": [
    "In MATLAB or GNU Octave, now that all variables are defined and initialized, we can call the M-file function `run_model.m`, which in turn calls an M-file function `calculate_global_average.m`. In a Jupyter noetebook, however, we also need to execute it once in order to save it to an internal M-file. As in the one-dimensional advection problem, I provide the necessary code (after deleting some comments to save space) in the following cell and comment on it afterwards."
   ]
  },
  {
   "cell_type": "markdown",
   "metadata": {},
   "source": [
    "## Code of M-file function `calculate_global_average.m`"
   ]
  },
  {
   "cell_type": "code",
   "execution_count": 8,
   "metadata": {},
   "outputs": [
    {
     "name": "stdout",
     "output_type": "stream",
     "text": [
      "Created file '/Users/andre/Development/ebm-1d-octave/calculate_global_average.m'.\n"
     ]
    }
   ],
   "source": [
    "%%file calculate_global_average.m\n",
    "\n",
    "function globalAverageTracer = calculate_global_average(volume, tracer)\n",
    "% CALCULATE_GLOBAL_AVERAGE Calculate global average tracer concentration\n",
    "\n",
    "% Determine array size\n",
    "Ny = size(volume);\n",
    "\n",
    "% Compute volume-weighted global average\n",
    "sumOfWeights = 0.0;\n",
    "weightedSum  = 0.0;\n",
    "for j=1:Ny\n",
    "    sumOfWeights = sumOfWeights + volume(j);\n",
    "    weightedSum  = weightedSum  + volume(j)*tracer(j);\n",
    "end\n",
    "globalAverageTracer = weightedSum/sumOfWeights;"
   ]
  },
  {
   "cell_type": "markdown",
   "metadata": {},
   "source": [
    "## Code of M-file function `run_model.m`"
   ]
  },
  {
   "cell_type": "code",
   "execution_count": 9,
   "metadata": {},
   "outputs": [
    {
     "name": "stdout",
     "output_type": "stream",
     "text": [
      "Created file '/Users/andre/Development/ebm-1d-octave/run_model.m'.\n"
     ]
    }
   ],
   "source": [
    "%%file run_model.m\n",
    "\n",
    "function tracer = run_model(Constants, Sizes, Grids, ...\n",
    "                            RunParameters, ModelParameters)\n",
    "% RUN_MODEL Direct model integration.\n",
    "\n",
    "% Retrieve constants and parameters from structure array 'Model'\n",
    "SECONDS_PER_DAY        = Constants.SECONDS_PER_DAY;\n",
    "DAYS_PER_YEAR          = Constants.DAYS_PER_YEAR;\n",
    "pureWaterSpecificHeat  = Constants.pureWaterSpecificHeat;\n",
    "pureWaterDensity       = Constants.pureWaterDensity;\n",
    "pureWaterFreezingPoint = Constants.pureWaterFreezingPoint;\n",
    "Ny                     = Sizes.Ny;\n",
    "yC                     = Grids.yC;\n",
    "yG                     = Grids.yG;\n",
    "dyC                    = Grids.dyC;   \n",
    "yA                     = Grids.yA;   \n",
    "volume                 = Grids.volume;\n",
    "deltaT                 = RunParameters.deltaT;\n",
    "startTime              = RunParameters.startTime;\n",
    "nTimeSteps             = RunParameters.nTimeSteps;\n",
    "historyFilename        = RunParameters.historyFilename;\n",
    "snapshotFilename1      = RunParameters.snapshotFilename1;\n",
    "snapshotFilename2      = RunParameters.snapshotFilename2;\n",
    "solarFraction          = ModelParameters.solarFraction;\n",
    "insolation             = ModelParameters.insolation;\n",
    "icefreePlanetaryAlbedo = ModelParameters.icefreePlanetaryAlbedo;\n",
    "longwaveCoefficientA   = ModelParameters.longwaveCoefficientA;\n",
    "longwaveCoefficientB   = ModelParameters.longwaveCoefficientB;\n",
    "effectiveHeatCapacity  = ModelParameters.effectiveHeatCapacity;\n",
    "diffKh                 = ModelParameters.diffKh;\n",
    "initialTracer          = ModelParameters.initialTracer;\n",
    "\n",
    "% Set initial conditions\n",
    "myTime    = startTime;\n",
    "tracer    = initialTracer;\n",
    "globalAverageTemperature = calculate_global_average(volume, tracer);\n",
    "   \n",
    "% Open history file\n",
    "historyFileID   = fopen(historyFilename, 'w');\n",
    "\n",
    "% Write header of history file\n",
    "fprintf(historyFileID, '%% One-dimensional energy balance model\\n');\n",
    "fprintf(historyFileID, '%% Column 1: Time/a\\n');\n",
    "fprintf(historyFileID, '%% Column 2: Temperature/degC\\n');\n",
    "% Write initial time and global average temperature to history file\n",
    "fprintf(historyFileID, '%12.4f %12.4f\\n', ...\n",
    "    myTime/(SECONDS_PER_DAY*DAYS_PER_YEAR), ...\n",
    "    globalAverageTemperature - pureWaterFreezingPoint);\n",
    "\n",
    "% Preallocate arrays for speed\n",
    "planetaryAlbedo           = zeros(Ny    , 1);\n",
    "dfy                       = zeros(Ny + 1, 1); % diffusive flux\n",
    "                                              % in Y direction\n",
    "gDiffusion                = zeros(Ny    , 1); % tendency due to diffusion\n",
    "\n",
    "% Time loop (myIter = iteration counter)\n",
    "for myIter=1:nTimeSteps\n",
    "   \n",
    "    % Record simulated time\n",
    "    myTime = myTime + deltaT;\n",
    "   \n",
    "    % Calculate diffusive flux in Y direction\n",
    "    for j=2:Ny\n",
    "        dfy(j) = -diffKh(j)*yA(j)*(tracer(j) - tracer(j - 1))/dyC(j);\n",
    "    end\n",
    "\n",
    "    % Calculate surface temperature tendency due to internal processes\n",
    "    % (here [explicit] diffusion only)\n",
    "    for j=1:Ny\n",
    "        % Take the negative of the divergence of fluxes\n",
    "        gDiffusion(j) = (dfy(j) - dfy(j + 1))/volume(j);\n",
    "    end\n",
    "    \n",
    "    % Set/calculate planetary albedo\n",
    "    for j=1:Ny\n",
    "        planetaryAlbedo(j) = icefreePlanetaryAlbedo(j);\n",
    "    end\n",
    "    \n",
    "    % Calculate net shortwave radiation budget\n",
    "    % (use the \".*\" operator for element-wise multiplication)\n",
    "    absorbedSolarRadiation = solarFraction*insolation.* ...\n",
    "        (1.0 - icefreePlanetaryAlbedo);\n",
    "    \n",
    "    % Calculate net longwave radiation budget\n",
    "    outgoingLongwaveRadiation = longwaveCoefficientA + ...\n",
    "        longwaveCoefficientB*(tracer - pureWaterFreezingPoint);\n",
    "\n",
    "    % Calculate surface temperature tendency due to external forcing\n",
    "    gForcing = (absorbedSolarRadiation - outgoingLongwaveRadiation)/ ...\n",
    "        effectiveHeatCapacity;\n",
    "\n",
    "    % Calculate total surface temperature tendency\n",
    "    gTracer = gDiffusion + gForcing;\n",
    "\n",
    "    % Step surface tracer forward in time \n",
    "    % (by \"Euler forward\" or \"forward-in-time\" method)\n",
    "    tracer  = tracer + deltaT*gTracer;\n",
    "      \n",
    "    % Write current time and global average temperature to history file\n",
    "    globalAverageTemperature = calculate_global_average(volume, tracer);\n",
    "    fprintf(historyFileID, '%12.4f %12.4f\\n', ...\n",
    "        myTime/(SECONDS_PER_DAY*DAYS_PER_YEAR), ...\n",
    "        globalAverageTemperature - pureWaterFreezingPoint);\n",
    "end\n",
    "\n",
    "% Close history file\n",
    "fclose(historyFileID);\n",
    "\n",
    "% Open snapshot files\n",
    "snapshotFileID1 = fopen(snapshotFilename1, 'w');\n",
    "snapshotFileID2 = fopen(snapshotFilename2, 'w');\n",
    "\n",
    "% Write header of snapshot file no. 1 (data at grid-cell centers)\n",
    "fprintf(snapshotFileID1, '%% Filename: snapshot_yc.txt\\n');\n",
    "fprintf(snapshotFileID1, '%% No. of header lines: 10\\n');\n",
    "fprintf(snapshotFileID1, '%% No. of columns:       7\\n');\n",
    "fprintf(snapshotFileID1, '%% Column  1: yC                        = latitude at grid-cell centers/degN\\n');\n",
    "fprintf(snapshotFileID1, '%% Column  2: insolation                = incoming solar radiation/(W m-2)\\n');\n",
    "fprintf(snapshotFileID1, '%% Column  3: planetaryAlbedo           = planetary albedo\\n');\n",
    "fprintf(snapshotFileID1, '%% Column  4: absorbedSolarRadiation    = net shortwave radiation absorbed by planet/(W m-2)\\n');\n",
    "fprintf(snapshotFileID1, '%% Column  5: outgoingLongwaveRadiation = net longwave radiation emitted by planet/(W m-2))\\n');\n",
    "fprintf(snapshotFileID1, '%% Column  6: gDiffusion                = divergence of diffusive meridional energy transport/(W m-2)\\n');\n",
    "fprintf(snapshotFileID1, '%% Column  7: temperature               = surface temperature/degC\\n');\n",
    "% Write to snapshot file no. 1\n",
    "for j=1:Ny\n",
    "    fprintf(snapshotFileID1, '%12.4f%20.6E%20.6E%20.6E%20.6E%20.6E%20.6E\\n', ...\n",
    "        yC(j), ...\n",
    "        insolation(j), ...\n",
    "        planetaryAlbedo(j), ...\n",
    "        absorbedSolarRadiation(j), ...\n",
    "        outgoingLongwaveRadiation(j), ...\n",
    "        effectiveHeatCapacity*gDiffusion(j), ...\n",
    "        tracer(j) - pureWaterFreezingPoint);\n",
    "end\n",
    "\n",
    "% Write header of snapshot file no. 2 (data at grid-cell boundaries)\n",
    "fprintf(snapshotFileID2, '%% Filename: snapshot_yg.txt\\n');\n",
    "fprintf(snapshotFileID2, '%% No. of header lines:  6\\n');\n",
    "fprintf(snapshotFileID2, '%% No. of columns:       3\\n');\n",
    "fprintf(snapshotFileID2, '%% Column  1: yG     = latitude at grid-cell boundaries/degN\\n');\n",
    "fprintf(snapshotFileID2, '%% Column  2: diffKh = diffusivity/(m s-2)\\n');\n",
    "fprintf(snapshotFileID2, '%% Column  3: dfy    = meridional energy transport/W\\n');\n",
    "% Write to snapshot file no. 2\n",
    "for j=1:Ny+1\n",
    "    fprintf(snapshotFileID2, '%12.4f%20.6E%20.6E\\n', ...\n",
    "        yG(j), ...\n",
    "        diffKh(j), ...\n",
    "        pureWaterSpecificHeat*pureWaterDensity*dfy(j));\n",
    "end\n",
    "\n",
    "% Close snapshot files\n",
    "fclose(snapshotFileID1);\n",
    "fclose(snapshotFileID2);"
   ]
  },
  {
   "cell_type": "markdown",
   "metadata": {},
   "source": [
    "## Call to M-file function `run_model.m`"
   ]
  },
  {
   "cell_type": "code",
   "execution_count": 26,
   "metadata": {},
   "outputs": [],
   "source": [
    "run_model(Constants, Sizes, Grids, RunParameters, ModelParameters);"
   ]
  },
  {
   "cell_type": "markdown",
   "metadata": {},
   "source": [
    "## Plotting of simulated and observed temperature distributions"
   ]
  },
  {
   "cell_type": "markdown",
   "metadata": {},
   "source": [
    "With the following code, we can read the simulated surface temperature from the output file `snapshot_yc.txt` and the observed temperature of the NCEP reanalysis from a second file and plot them together for comparison:"
   ]
  },
  {
   "cell_type": "code",
   "execution_count": 27,
   "metadata": {},
   "outputs": [
    {
     "data": {
      "image/png": "[encoded data removed]",
      "text/plain": [
       "<IPython.core.display.Image object>"
      ]
     },
     "metadata": {},
     "output_type": "display_data"
    }
   ],
   "source": [
    "% Set input filnenames\n",
    "inputFilename = 'snapshot_yc.txt';\n",
    "\n",
    "% Read model output from multi-column text file\n",
    "data               = load(inputFilename);\n",
    "yC                 = data(:, 1); % grid cell center latitude/degN\n",
    "surfaceTemperature = data(:, 7); % surface temperature/degC\n",
    "\n",
    "\n",
    "% Read data from two-column text file\n",
    "data      = load('NCEP_air_zonal_ann.txt');\n",
    "yObserved = data(:, 1); % grid cell latitude/degN\n",
    "tObserved = data(:, 2); % annual-mean surface temperature/degC\n",
    "\n",
    "% Plot simulated and observed temperature data\n",
    "figure\n",
    "plot(yC, surfaceTemperature, 'k-', yObserved, tObserved, 'k--', ...\n",
    "     'LineWidth', 2);\n",
    "grid on\n",
    "axis([-90 90 -45 35])\n",
    "set(gca, 'FontSize', 18)\n",
    "xlabel('Latitude/degN', 'FontSize', 18)\n",
    "ylabel('Temperature/degC', 'FontSize', 18)\n",
    "legend('simulated', 'observed')\n",
    "title('Simulated vs. observed surface temperature', 'FontSize', 20)"
   ]
  },
  {
   "cell_type": "markdown",
   "metadata": {},
   "source": [
    "Note that in the archive `ebm_1d_basic.zip`, this code is contained in the M-file script `plot_model_observations.m`."
   ]
  },
  {
   "cell_type": "markdown",
   "metadata": {},
   "source": [
    "## Explaining and completing the M-file function `run_model.m`"
   ]
  },
  {
   "cell_type": "markdown",
   "metadata": {},
   "source": [
    "Now I comment on the code of the M-file function `run_model.m` in detail. In passing, I also give hints how to complete the MATLAB/Octave code in the M-file `run_model_template.m` that is distributed with the archive ebm_1d_basic.zip (see also the PDF document [e05_ebm_1d_basic.pdf](https://seafile.zfn.uni-bremen.de/f/13728a804c9d4dde9178/))."
   ]
  },
  {
   "cell_type": "markdown",
   "metadata": {},
   "source": [
    "The first line of the M-file function `run_model.m` is continued to the second and defines the name of the function `run_model` as well as five input arguments and one output argument:"
   ]
  },
  {
   "cell_type": "markdown",
   "metadata": {},
   "source": [
    "```OCTAVE\n",
    "function tracer = run_model(Constants, Sizes, Grids, ... \n",
    "                            RunParameters, ModelParameters)\n",
    "```"
   ]
  },
  {
   "cell_type": "markdown",
   "metadata": {},
   "source": [
    "The input arguments are the five structure arrays (structures for short) `Constants`, `Sizes`, `Grids`, `RunParameters` and `ModelParameters`. The one output parameter is the final surface temperature distribution, which is stored in the variable `tracer`. For convenience and to reduce writing, the input parameters and variables can be retrieved by accessing the fields of the structures using the `.` notation, for example, the number of grid points `Ny`can be retrieved from the `Sizes` structure as follow: `Ny = Sizes.Ny;`."
   ]
  },
  {
   "cell_type": "markdown",
   "metadata": {},
   "source": [
    "```OCTAVE\n",
    "% Retrieve constants and parameters from structure array 'Model'\n",
    "SECONDS_PER_DAY        = Constants.SECONDS_PER_DAY;\n",
    "DAYS_PER_YEAR          = Constants.DAYS_PER_YEAR;\n",
    "pureWaterSpecificHeat  = Constants.pureWaterSpecificHeat;\n",
    "pureWaterDensity       = Constants.pureWaterDensity;\n",
    "pureWaterFreezingPoint = Constants.pureWaterFreezingPoint;\n",
    "Ny                     = Sizes.Ny;\n",
    "yC                     = Grids.yC;\n",
    "yG                     = Grids.yG;\n",
    "dyC                    = Grids.dyC;   \n",
    "yA                     = Grids.yA;   \n",
    "volume                 = Grids.volume;\n",
    "deltaT                 = RunParameters.deltaT;\n",
    "startTime              = RunParameters.startTime;\n",
    "nTimeSteps             = RunParameters.nTimeSteps;\n",
    "historyFilename        = RunParameters.historyFilename;\n",
    "snapshotFilename1      = RunParameters.snapshotFilename1;\n",
    "snapshotFilename2      = RunParameters.snapshotFilename2;\n",
    "solarFraction          = ModelParameters.solarFraction;\n",
    "insolation             = ModelParameters.insolation;\n",
    "icefreePlanetaryAlbedo = ModelParameters.icefreePlanetaryAlbedo;\n",
    "longwaveCoefficientA   = ModelParameters.longwaveCoefficientA;\n",
    "longwaveCoefficientB   = ModelParameters.longwaveCoefficientB;\n",
    "effectiveHeatCapacity  = ModelParameters.effectiveHeatCapacity;\n",
    "diffKh                 = ModelParameters.diffKh;\n",
    "initialTracer          = ModelParameters.initialTracer;\n",
    "```"
   ]
  },
  {
   "cell_type": "markdown",
   "metadata": {},
   "source": [
    "Next the initial conditions are set: the initial time and the initial tracer distribution. In addition, the initial global-mean temperature is calculated by calling the M-file function `calculate_global_average.m`:"
   ]
  },
  {
   "cell_type": "markdown",
   "metadata": {},
   "source": [
    "```OCTAVE\n",
    "% Set initial conditions\n",
    "% Set initial conditions\n",
    "myTime    = startTime;\n",
    "tracer    = initialTracer;\n",
    "globalAverageTemperature = calculate_global_average(volume, tracer);\n",
    "```"
   ]
  },
  {
   "cell_type": "markdown",
   "metadata": {},
   "source": [
    "Then the history file is opened and three header lines are written to it:"
   ]
  },
  {
   "cell_type": "markdown",
   "metadata": {},
   "source": [
    "```OCTAVE\n",
    "% Open history file\n",
    "historyFileID   = fopen(historyFilename, 'w');\n",
    "\n",
    "% Write header of history file\n",
    "fprintf(historyFileID, '%% One-dimensional energy balance model\\n');\n",
    "fprintf(historyFileID, '%% Column 1: Time/a\\n');\n",
    "fprintf(historyFileID, '%% Column 2: Temperature/degC\\n');\n",
    "% Write initial time and global average temperature to history file\n",
    "fprintf(historyFileID, '%12.4f %12.4f\\n', ...\n",
    "    myTime/(SECONDS_PER_DAY*DAYS_PER_YEAR), ...\n",
    "    globalAverageTemperature - pureWaterFreezingPoint);\n",
    "```"
   ]
  },
  {
   "cell_type": "markdown",
   "metadata": {},
   "source": [
    "To speed up the time stepping of the numerical solution, auxiliary variables are \"pre-allocated\", that is, they are defined as arrays of size `Ny + 1` (for the diffusive flux `dfy` at the grid-cell interfaces) and `Ny` (for the planetary Albedo and the tendency due to diffusion `gDiffusion` at the grid-cell centers) and intialized to zero. Otherwise the size of these arrays would grow by one during each iteration of the time loop. This would require the allocation of additional memory in the computer during each iteration, which could slow down the program execution and cause a substantial increase in computing time. "
   ]
  },
  {
   "cell_type": "markdown",
   "metadata": {},
   "source": [
    "```OCTAVE\n",
    "% Preallocate arrays for speed\n",
    "planetaryAlbedo           = zeros(Ny    , 1);\n",
    "dfy                       = zeros(Ny + 1, 1); % diffusive flux\n",
    "                                              % in Y direction\n",
    "gDiffusion                = zeros(Ny    , 1); % tendency due to diffusion\n",
    "```"
   ]
  },
  {
   "cell_type": "markdown",
   "metadata": {},
   "source": [
    "Now follows the core of the model integration in the time loop, which is a `for` loop that is repated `nTimeSteps` times:"
   ]
  },
  {
   "cell_type": "markdown",
   "metadata": {},
   "source": [
    "```Octave\n",
    "% Time loop (myIter = iteration counter)\n",
    "for myIter=1:nTimeSteps\n",
    "```"
   ]
  },
  {
   "cell_type": "markdown",
   "metadata": {},
   "source": [
    "The time loop in turn contains `for` loops that run over the spatial dimension. The following `for` loop calculates the diffusive flux `dfy` for each grid-cell interface `j`. Initially, in the M-file `run_model_template`, there are question marks \"???\" that indicate code lines that still need to be completed: "
   ]
  },
  {
   "cell_type": "markdown",
   "metadata": {},
   "source": [
    "```OCTAVE\n",
    "    % Calculate diffusive flux in Y direction\n",
    "    for j=2:Ny\n",
    "        dfy(j) = ???;\n",
    "    end\n",
    "```"
   ]
  },
  {
   "cell_type": "markdown",
   "metadata": {},
   "source": [
    "The diffusive flux `dfy` is equal to the negative product of the diffusion coefficient `diffKh(j)`, the cross-sectional area `yA(j)` and the temperature gradient across the interface, that is, between grid cells `j` and `j - 1`. The temperature gradient is expressed as the temperature difference `tracer(j) - tracer(j - 1)` divided by the distance between the grid-cell centers `dyC(j)`:"
   ]
  },
  {
   "cell_type": "markdown",
   "metadata": {},
   "source": [
    "```OCTAVE\n",
    "    % Calculate diffusive flux in Y direction\n",
    "    for j=2:Ny\n",
    "        dfy(j) = -diffKh(j)*yA(j)*(tracer(j) - tracer(j - 1))/dyC(j);\n",
    "    end\n",
    "```"
   ]
  },
  {
   "cell_type": "markdown",
   "metadata": {},
   "source": [
    "The tracer tendency due to internal processes is then equal to the divergence of the diffusive flux, that is, the difference between the diffusive flux to the right (north) `dfy(j)` minus the diffusive flux from the left (south) `afy(j + 1)`, divided by the volume of the grid cell `volume(j)`. Hence we need to replace the question marks \"???\" in the next `for` loop:"
   ]
  },
  {
   "cell_type": "markdown",
   "metadata": {},
   "source": [
    "```OCTAVE\n",
    "    % Calculate surface temperature tendency due to internal processes\n",
    "    % (here [explicit] diffusion only)\n",
    "    for j=1:Ny\n",
    "        % Take the negative of the divergence of fluxes\n",
    "        gDiffusion(j) = ???;\n",
    "    end\n",
    "```"
   ]
  },
  {
   "cell_type": "markdown",
   "metadata": {},
   "source": [
    "as follows:"
   ]
  },
  {
   "cell_type": "markdown",
   "metadata": {},
   "source": [
    "```OCTAVE\n",
    "    % Calculate surface temperature tendency due to internal processes\n",
    "    % (here [explicit] diffusion only)\n",
    "    for j=1:Ny\n",
    "        % Take the negative of the divergence of fluxes\n",
    "        gDiffusion(j) = (dfy(j) - dfy(j + 1))/volume(j);\n",
    "    end\n",
    "```"
   ]
  },
  {
   "cell_type": "markdown",
   "metadata": {},
   "source": [
    "In the following, external sources and sinks of heat are calculated. In this \"basic\" version of the energy balance model, planetary albedo is simpy set to the ice-free planetary albedo:"
   ]
  },
  {
   "cell_type": "markdown",
   "metadata": {},
   "source": [
    "```OCTAVE\n",
    "    % Set/calculate planetary albedo\n",
    "    for j=1:Ny\n",
    "        planetaryAlbedo(j) = icefreePlanetaryAlbedo(j);\n",
    "    end\n",
    "```"
   ]
  },
  {
   "cell_type": "markdown",
   "metadata": {},
   "source": [
    "Then net shortwave radiation budget is calculated as the fraction of the solar constant times the insolation at the op of the atmosphere times the fraction that is absorbed by the atmosphere-ocean system, which is given by one minus the ice-free planetary albedo:"
   ]
  },
  {
   "cell_type": "markdown",
   "metadata": {},
   "source": [
    "```OCTAVE\n",
    "    % Calculate net shortwave radiation budget\n",
    "    % (use the \".*\" operator for element-wise multiplication)\n",
    "    absorbedSolarRadiation = solarFraction*insolation.* ...\n",
    "        (1.0 - icefreePlanetaryAlbedo);\n",
    "```"
   ]
  },
  {
   "cell_type": "markdown",
   "metadata": {},
   "source": [
    "Note that in this and the following statements we avoid the use of `for` loops for computational efficiency and instead take advantage of the MATLAB/Octave element-wise addition and multiplication of matrices (which in our case are one-dimensional arrays or vectors). The net shortwave radiation budget can be calculated from the linear parameterization $F_{\\infty}^{\\uparrow}(x, T_{{\\rm s}})=A+B\\,T_{{\\rm s}}$ as follows: "
   ]
  },
  {
   "cell_type": "markdown",
   "metadata": {},
   "source": [
    "```OCTAVE\n",
    "    % Calculate net longwave radiation budget\n",
    "    outgoingLongwaveRadiation = longwaveCoefficientA + ...\n",
    "        longwaveCoefficientB*(tracer - pureWaterFreezingPoint);\n",
    "```"
   ]
  },
  {
   "cell_type": "markdown",
   "metadata": {},
   "source": [
    "Given the net shortwave and longwave radiation budgets, we can now calculate the tracer tendency due to external forcing, by taking the difference and dividing by the effective heat capacity:"
   ]
  },
  {
   "cell_type": "markdown",
   "metadata": {},
   "source": [
    "```OCTAVE\n",
    "    % Calculate surface temperature tendency due to external\n",
    "    % forcing\n",
    "    gForcing = (absorbedSolarRadiation -         \n",
    "                outgoingLongwaveRadiation)/ ...\n",
    "               effectiveHeatCapacity;\n",
    "```"
   ]
  },
  {
   "cell_type": "markdown",
   "metadata": {},
   "source": [
    "Then we can add the tendencies from the divergence of the diffusive flux and the external forcing to obtain the total surface temperature tendency:"
   ]
  },
  {
   "cell_type": "markdown",
   "metadata": {},
   "source": [
    "```OCTAVE\n",
    "    % Calculate total surface temperature tendency\n",
    "    gTracer = gDiffusion + gForcing;\n",
    "```"
   ]
  },
  {
   "cell_type": "markdown",
   "metadata": {},
   "source": [
    "The surface temperature at the future time level (n + 1) can be calculated from the surface temperature at the present time level (n) plus the time step times the total tendency. Hence we replace the remaining question marks \"???\":"
   ]
  },
  {
   "cell_type": "markdown",
   "metadata": {},
   "source": [
    "```OCTAVE\n",
    "    % Step surface tracer forward in time \n",
    "    % (by \"Euler forward\" or \"forward-in-time\" method)\n",
    "    tracer  = ???;\n",
    "```"
   ]
  },
  {
   "cell_type": "markdown",
   "metadata": {},
   "source": [
    "by:"
   ]
  },
  {
   "cell_type": "markdown",
   "metadata": {},
   "source": [
    "```OCTAVE\n",
    "    % Step surface tracer forward in time \n",
    "    % (by \"Euler forward\" or \"forward-in-time\" method)\n",
    "    tracer  = tracer + deltaT*gTracer;\n",
    "```"
   ]
  },
  {
   "cell_type": "markdown",
   "metadata": {},
   "source": [
    "Just before the end of the time loop, the current global-mean temperature is first calculated by calling the M-file function `calculate_global_average.m` and then written to the history file:"
   ]
  },
  {
   "cell_type": "markdown",
   "metadata": {},
   "source": [
    "```OCTAVE\n",
    "    % Write current time and global average temperature to history file\n",
    "    globalAverageTemperature = calculate_global_average(volume, tracer);\n",
    "    fprintf(historyFileID, '%12.4f %12.4f\\n', ...\n",
    "        myTime/(SECONDS_PER_DAY*DAYS_PER_YEAR), ...\n",
    "        globalAverageTemperature - pureWaterFreezingPoint);\n",
    "```"
   ]
  },
  {
   "cell_type": "markdown",
   "metadata": {},
   "source": [
    "This completes the time loop:"
   ]
  },
  {
   "cell_type": "markdown",
   "metadata": {},
   "source": [
    "```OCTAVE\n",
    "end % end of time loop\n",
    "```"
   ]
  },
  {
   "cell_type": "markdown",
   "metadata": {},
   "source": [
    "The final section of the M-file function `run_model.m` deals with two \"snapshot\" files: The first one contains the final results for variables defined at the grid-cell centers, the second one contains the final results for variables at the grid-cell boundaries. For both files, a header is written that describes the variables and their units:"
   ]
  },
  {
   "cell_type": "markdown",
   "metadata": {},
   "source": [
    "```OCTAVE\n",
    "% Open snapshot files\n",
    "snapshotFileID1 = fopen(snapshotFilename1, 'w');\n",
    "snapshotFileID2 = fopen(snapshotFilename2, 'w');\n",
    "\n",
    "% Write header of snapshot file no. 1 (data at grid-cell centers)\n",
    "fprintf(snapshotFileID1, '%% Filename: snapshot_yc.txt\\n');\n",
    "fprintf(snapshotFileID1, '%% No. of header lines: 10\\n');\n",
    "fprintf(snapshotFileID1, '%% No. of columns:       7\\n');\n",
    "fprintf(snapshotFileID1, '%% Column  1: yC                        = latitude at grid-cell centers/degN\\n');\n",
    "fprintf(snapshotFileID1, '%% Column  2: insolation                = incoming solar radiation/(W m-2)\\n');\n",
    "fprintf(snapshotFileID1, '%% Column  3: planetaryAlbedo           = planetary albedo\\n');\n",
    "fprintf(snapshotFileID1, '%% Column  4: absorbedSolarRadiation    = net shortwave radiation absorbed by planet/(W m-2)\\n');\n",
    "fprintf(snapshotFileID1, '%% Column  5: outgoingLongwaveRadiation = net longwave radiation emitted by planet/(W m-2))\\n');\n",
    "fprintf(snapshotFileID1, '%% Column  6: gDiffusion                = divergence of diffusive meridional energy transport/(W m-2)\\n');\n",
    "fprintf(snapshotFileID1, '%% Column  7: temperature               = surface temperature/degC\\n');\n",
    "% Write to snapshot file no. 1\n",
    "for j=1:Ny\n",
    "    fprintf(snapshotFileID1, '%12.4f%20.6E%20.6E%20.6E%20.6E%20.6E%20.6E\\n', ...\n",
    "        yC(j), ...\n",
    "        insolation(j), ...\n",
    "        planetaryAlbedo(j), ...\n",
    "        absorbedSolarRadiation(j), ...\n",
    "        outgoingLongwaveRadiation(j), ...\n",
    "        effectiveHeatCapacity*gDiffusion(j), ...\n",
    "        tracer(j) - pureWaterFreezingPoint);\n",
    "end\n",
    "\n",
    "% Write header of snapshot file no. 2 (data at grid-cell boundaries)\n",
    "fprintf(snapshotFileID2, '%% Filename: snapshot_yg.txt\\n');\n",
    "fprintf(snapshotFileID2, '%% No. of header lines:  6\\n');\n",
    "fprintf(snapshotFileID2, '%% No. of columns:       3\\n');\n",
    "fprintf(snapshotFileID2, '%% Column  1: yG     = latitude at grid-cell boundaries/degN\\n');\n",
    "fprintf(snapshotFileID2, '%% Column  2: diffKh = diffusivity/(m s-2)\\n');\n",
    "fprintf(snapshotFileID2, '%% Column  3: dfy    = meridional energy transport/W\\n');\n",
    "% Write to snapshot file no. 2\n",
    "for j=1:Ny+1\n",
    "    fprintf(snapshotFileID2, '%12.4f%20.6E%20.6E\\n', ...\n",
    "        yG(j), ...\n",
    "        diffKh(j), ...\n",
    "        pureWaterSpecificHeat*pureWaterDensity*dfy(j));\n",
    "end\n",
    "\n",
    "% Close snapshot files\n",
    "fclose(snapshotFileID1);\n",
    "fclose(snapshotFileID2);\n",
    "```"
   ]
  },
  {
   "cell_type": "markdown",
   "metadata": {},
   "source": [
    "## Sensitivity experiments"
   ]
  },
  {
   "cell_type": "markdown",
   "metadata": {},
   "source": [
    "1. For determining the influence of the meridional energy transport, we can either multiply the diffusivity by a constant factor, for example, by 1.5:"
   ]
  },
  {
   "cell_type": "markdown",
   "metadata": {},
   "source": [
    "```OCTAVE\n",
    "% Read diffusivity from file\n",
    "data = load(diffusivityFilename);\n",
    "diffKh                 = 1.5*data(:, 2);\n",
    "```"
   ]
  },
  {
   "cell_type": "markdown",
   "metadata": {},
   "source": [
    "or we can set it to zero:"
   ]
  },
  {
   "cell_type": "markdown",
   "metadata": {},
   "source": [
    "```OCTAVE\n",
    "% Read diffusivity from file\n",
    "data = load(diffusivityFilename);\n",
    "% diffKh                 = data(:, 2);\n",
    "diffKh = zeros(Ny + 1, 1);\n",
    "```"
   ]
  },
  {
   "cell_type": "markdown",
   "metadata": {},
   "source": [
    "2. For determining the influence of the greenhouse effect, we can simply change the constant term in the outgoing longwave radiation, for example, decreasing it by 4 W m<sup>-2</sup> from 205 W m<sup>-2</sup> to 201 W m<sup>-2</sup>, which roughly corresponds to a doubling of the atmospheric CO<sub>-2</sub> concentration:"
   ]
  },
  {
   "cell_type": "markdown",
   "metadata": {},
   "source": [
    "```OCTAVE\n",
    "% Set terms in parameterization of outgoing longwave radiation                         \n",
    "% longwaveCoefficientA = 205.0;       % constant term (control)\n",
    "longwaveCoefficientA = 201.0;       % constant term (2xCO2)\n",
    "% longwaveCoefficientA = 197.0;       % constant term (4xCO2)\n",
    "% longwaveCoefficientA = 193.0;       % constant term (6xCO2)\n",
    "longwaveCoefficientB =   2.23;      % constant factor\n",
    "                                    % (efficiency of longwave radiative cooling)\n",
    "```"
   ]
  },
  {
   "cell_type": "markdown",
   "metadata": {},
   "source": [
    "After applying these changes, we need to execute the code cell below that contains the M-file script `ebm_1d.m`, or we need to re-run it in GNU Octave."
   ]
  },
  {
   "cell_type": "markdown",
   "metadata": {},
   "source": [
    "## Complete code of M-file script `ebm_1d.m`"
   ]
  },
  {
   "cell_type": "markdown",
   "metadata": {},
   "source": [
    "For changing parameters and carrying out sensitivity experiments, the complete code of M-file script `ebm_1d.m` is given in the following cell:"
   ]
  },
  {
   "cell_type": "code",
   "execution_count": null,
   "metadata": {},
   "outputs": [],
   "source": [
    "% EBM_1D One-dimensional energy balance model.\n",
    "% Ebm1D is a one-dimensional energy balance model that calculates the\n",
    "% annual-mean surface temperature as a function of latitude and time. This main\n",
    "% program (M-file script) first initializes the model and then runs it over a\n",
    "% specified number of time steps.\n",
    "\n",
    "% Author:           Andre Paul\n",
    "% Written:          2011-11-30\n",
    "% Last updated:     2019-11-14\n",
    "%\n",
    "% Execution:        ebm_1d\n",
    "% Dependencies:     run_model.m\n",
    "%\n",
    "% >> ebm_1d\n",
    "\n",
    "%-------------------------------------------------------------------------------\n",
    "% Set experiment and file names\n",
    "%-------------------------------------------------------------------------------\n",
    "\n",
    "% Set experiment name\n",
    "experimentName = '';\n",
    "\n",
    "% Set input file names\n",
    "gridsFilename       = 'grids.txt';\n",
    "swradiationFilename = 'shortwave_radiation.txt';\n",
    "diffusivityFilename = 'diffusivity.txt';\n",
    "\n",
    "% Set output file names\n",
    "historyFilename   = ['history' experimentName '.txt'];\n",
    "snapshotFilename1 = ['snapshot_yc' experimentName '.txt'];\n",
    "snapshotFilename2 = ['snapshot_yg' experimentName '.txt'];\n",
    "\n",
    "%-------------------------------------------------------------------------------\n",
    "% Set constants, parameters and initial conditions\n",
    "%-------------------------------------------------------------------------------\n",
    "\n",
    "% Set named constants\n",
    "SECONDS_PER_DAY = 86400.0;\n",
    "DAYS_PER_YEAR   =   365.0;\n",
    "    \n",
    "% Set physical constants\n",
    "pureWaterDensity       = 1.0E03;    % density of pure water at 0 degC\n",
    "                                    % /(kg m-3)\n",
    "pureWaterSpecificHeat  = 4218.0;    % specific heat of liquid water at\n",
    "                                    % 0 degC/(J kg-1 K-1)\n",
    "pureWaterFreezingPoint = 273.15;    % pure water freezing point/K\n",
    "\n",
    "% Set run parameters\n",
    "deltaT     =  5.0*86400.0;          % time step/s\n",
    "startTime  =  0.0;                  % time to start integration/s\n",
    "endTime    = 50.0*365.0*86400.0;    % time to stop integration/s\n",
    "nTimeSteps = round((endTime - startTime)/deltaT); % total number of time\n",
    "                                                  % steps\n",
    "% Set model parameters\n",
    "solarFraction         =  1.0;       % current fraction of solar constant\n",
    "mixedLayerDepth       = 70.0;       % ocean mixed-layer depth/m\n",
    "effectiveHeatCapacity = ...\n",
    "    pureWaterSpecificHeat*pureWaterDensity*mixedLayerDepth; \n",
    "                                    % effective heat capacity of the \n",
    "                                    % atmosphere-ocean system/(J m-2 K-1)\n",
    "\n",
    "% Set terms in parameterization of outgoing longwave radiation                                    \n",
    "longwaveCoefficientA = 205.0;       % constant term (control)\n",
    "% longwaveCoefficientA = 201.0;       % constant term (2xCO2)\n",
    "% longwaveCoefficientA = 197.0;       % constant term (4xCO2)\n",
    "% longwaveCoefficientA = 193.0;       % constant term (6xCO2)\n",
    "longwaveCoefficientB =   2.23;      % constant factor\n",
    "                                    % (efficiency of longwave radiative cooling)\n",
    "\n",
    "%-------------------------------------------------------------------------------\n",
    "% Set up horizontal grid and coordinate system\n",
    "%-------------------------------------------------------------------------------\n",
    "\n",
    "% Read grid descriptors from text file (line-by-line using 'fscanf')\n",
    "gridsFileID = fopen(gridsFilename, 'r');\n",
    "Ny  = fscanf(gridsFileID, '%d', 1   ); % number of grid cells\n",
    "dxG = fscanf(gridsFileID, '%f', Ny+1); % lengths between cell faces in X\n",
    "dyC = fscanf(gridsFileID, '%f', Ny  ); % lengths between cell centers in Y\n",
    "yG  = fscanf(gridsFileID, '%f', Ny+1); % latitudes of grid-lines/cell faces\n",
    "yC  = fscanf(gridsFileID, '%f', Ny  ); % latitudes of grid cell centers\n",
    "rA  = fscanf(gridsFileID, '%f', Ny  ); % vertical face areas\n",
    "fclose(gridsFileID);\n",
    "\n",
    "% Calculate face areas normal to X direction\n",
    "yA = zeros(Ny+1, 1);\n",
    "for j=1:Ny+1\n",
    "    yA(j) = mixedLayerDepth*dxG(j);\n",
    "end\n",
    "\n",
    "% Calculate grid-cell volumes\n",
    "volume = zeros(Ny, 1);\n",
    "for j=1:Ny\n",
    "    volume(j) = mixedLayerDepth*rA(j);\n",
    "end\n",
    "\n",
    "%-------------------------------------------------------------------------------\n",
    "% Set other fields\n",
    "%-------------------------------------------------------------------------------\n",
    "\n",
    "% Read insolation and ice-free planetary albedo from file\n",
    "data = load(swradiationFilename);\n",
    "insolation             = data(:, 2);\n",
    "icefreePlanetaryAlbedo = data(:, 3);\n",
    "\n",
    "% Read diffusivity from file\n",
    "data = load(diffusivityFilename);\n",
    "diffKh                 = data(:, 2);\n",
    "% diffKh = zeros(Ny + 1, 1);\n",
    "\n",
    "% Set initial conditions\n",
    "initialTracer          = (pureWaterFreezingPoint + 15.0)*ones(Ny, 1);\n",
    "\n",
    "%-------------------------------------------------------------------------------\n",
    "% Store parameters and variable(s) in structure arrays\n",
    "%-------------------------------------------------------------------------------\n",
    "\n",
    "Constants.SECONDS_PER_DAY              = SECONDS_PER_DAY;\n",
    "Constants.DAYS_PER_YEAR                = DAYS_PER_YEAR;\n",
    "Constants.pureWaterSpecificHeat        = pureWaterSpecificHeat;\n",
    "Constants.pureWaterDensity             = pureWaterDensity;\n",
    "Constants.pureWaterFreezingPoint       = pureWaterFreezingPoint;\n",
    "Sizes.Ny                               = Ny;\n",
    "Grids.yC                               = yC;\n",
    "Grids.yG                               = yG;\n",
    "Grids.dyC                              = dyC;\n",
    "Grids.yA                               = yA;   \n",
    "Grids.volume                           = volume;\n",
    "RunParameters.deltaT                   = deltaT;\n",
    "RunParameters.startTime                = startTime;\n",
    "RunParameters.nTimeSteps               = nTimeSteps;\n",
    "RunParameters.historyFilename          = historyFilename;\n",
    "RunParameters.snapshotFilename1        = snapshotFilename1;\n",
    "RunParameters.snapshotFilename2        = snapshotFilename2;\n",
    "ModelParameters.solarFraction          = solarFraction;\n",
    "ModelParameters.insolation             = insolation;\n",
    "ModelParameters.icefreePlanetaryAlbedo = icefreePlanetaryAlbedo;\n",
    "ModelParameters.longwaveCoefficientA   = longwaveCoefficientA;\n",
    "ModelParameters.longwaveCoefficientB   = longwaveCoefficientB;\n",
    "ModelParameters.effectiveHeatCapacity  = effectiveHeatCapacity;\n",
    "ModelParameters.diffKh                 = diffKh;      \n",
    "ModelParameters.initialTracer          = initialTracer;\n",
    "\n",
    "%-------------------------------------------------------------------------------\n",
    "% Run model\n",
    "%-------------------------------------------------------------------------------\n",
    "\n",
    "run_model(Constants, Sizes, Grids, RunParameters, ModelParameters);\n"
   ]
  }
 ],
 "metadata": {
  "authors": [
   {
    "name": "André Paul"
   },
   {
    "name": "Michael Schulz"
   }
  ],
  "kernelspec": {
   "display_name": "Octave",
   "language": "octave",
   "name": "octave"
  },
  "language_info": {
   "file_extension": ".m",
   "help_links": [
    {
     "text": "GNU Octave",
     "url": "https://www.gnu.org/software/octave/support.html"
    },
    {
     "text": "Octave Kernel",
     "url": "https://github.com/Calysto/octave_kernel"
    },
    {
     "text": "MetaKernel Magics",
     "url": "https://metakernel.readthedocs.io/en/latest/source/README.html"
    }
   ],
   "mimetype": "text/x-octave",
   "name": "octave",
   "version": "5.2.0"
  },
  "title": "Introduction to programming using Octave"
 },
 "nbformat": 4,
 "nbformat_minor": 2
}
